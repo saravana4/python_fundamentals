{
 "cells": [
  {
   "cell_type": "code",
   "execution_count": null,
   "metadata": {},
   "outputs": [],
   "source": [
    "# appreciate students in the list"
   ]
  },
  {
   "cell_type": "code",
   "execution_count": 1,
   "metadata": {},
   "outputs": [],
   "source": [
    "students = ['vennaila','naveen','sajeeth','mohan','deena','selvam','sundar','soundar','shanmugam']"
   ]
  },
  {
   "cell_type": "code",
   "execution_count": 3,
   "metadata": {},
   "outputs": [
    {
     "name": "stdout",
     "output_type": "stream",
     "text": [
      "keep up the good work,Vennaila\n"
     ]
    }
   ],
   "source": [
    "print (f\"keep up the good work,{students [0].title()}\")"
   ]
  },
  {
   "cell_type": "code",
   "execution_count": 5,
   "metadata": {},
   "outputs": [
    {
     "name": "stdout",
     "output_type": "stream",
     "text": [
      "keep upthe good work , Naveen\n"
     ]
    }
   ],
   "source": [
    "print (f\"keep upthe good work , {students [1].title()}\")"
   ]
  },
  {
   "cell_type": "code",
   "execution_count": null,
   "metadata": {},
   "outputs": [],
   "source": [
    "# for loops"
   ]
  },
  {
   "cell_type": "code",
   "execution_count": 13,
   "metadata": {},
   "outputs": [
    {
     "name": "stdout",
     "output_type": "stream",
     "text": [
      "keep up the good work, Vennaila\n",
      "keep up the good work, Naveen\n",
      "keep up the good work, Sajeeth\n",
      "keep up the good work, Mohan\n",
      "keep up the good work, Deena\n",
      "keep up the good work, Selvam\n",
      "keep up the good work, Sundar\n",
      "keep up the good work, Soundar\n",
      "keep up the good work, Shanmugam\n"
     ]
    }
   ],
   "source": [
    "for x in students:\n",
    "\n",
    "      print (f\"keep up the good work, {x.title()}\")"
   ]
  },
  {
   "cell_type": "code",
   "execution_count": null,
   "metadata": {},
   "outputs": [],
   "source": [
    "# enchanement of code"
   ]
  },
  {
   "cell_type": "code",
   "execution_count": 16,
   "metadata": {},
   "outputs": [
    {
     "name": "stdout",
     "output_type": "stream",
     "text": [
      "keep up the good work , Vennaila\n",
      "excepting to mark attedance on dily baisi Vennaila.\n",
      "\n",
      "keep up the good work , Naveen\n",
      "excepting to mark attedance on dily baisi Naveen.\n",
      "\n",
      "keep up the good work , Sajeeth\n",
      "excepting to mark attedance on dily baisi Sajeeth.\n",
      "\n",
      "keep up the good work , Mohan\n",
      "excepting to mark attedance on dily baisi Mohan.\n",
      "\n",
      "keep up the good work , Deena\n",
      "excepting to mark attedance on dily baisi Deena.\n",
      "\n",
      "keep up the good work , Selvam\n",
      "excepting to mark attedance on dily baisi Selvam.\n",
      "\n",
      "keep up the good work , Sundar\n",
      "excepting to mark attedance on dily baisi Sundar.\n",
      "\n",
      "keep up the good work , Soundar\n",
      "excepting to mark attedance on dily baisi Soundar.\n",
      "\n",
      "keep up the good work , Shanmugam\n",
      "excepting to mark attedance on dily baisi Shanmugam.\n",
      "\n"
     ]
    }
   ],
   "source": [
    "for x in students:\n",
    "    print (f\"keep up the good work , {x.title()}\")\n",
    "    print (f\"excepting to mark attedance on dily baisi {x.title()}.\\n\")"
   ]
  },
  {
   "cell_type": "code",
   "execution_count": null,
   "metadata": {},
   "outputs": [],
   "source": []
  },
  {
   "cell_type": "code",
   "execution_count": null,
   "metadata": {},
   "outputs": [],
   "source": []
  },
  {
   "cell_type": "code",
   "execution_count": null,
   "metadata": {},
   "outputs": [],
   "source": []
  },
  {
   "cell_type": "code",
   "execution_count": null,
   "metadata": {},
   "outputs": [],
   "source": []
  },
  {
   "cell_type": "code",
   "execution_count": null,
   "metadata": {},
   "outputs": [],
   "source": []
  },
  {
   "cell_type": "code",
   "execution_count": null,
   "metadata": {},
   "outputs": [],
   "source": []
  },
  {
   "cell_type": "code",
   "execution_count": null,
   "metadata": {},
   "outputs": [],
   "source": []
  },
  {
   "cell_type": "code",
   "execution_count": null,
   "metadata": {},
   "outputs": [],
   "source": []
  }
 ],
 "metadata": {
  "kernelspec": {
   "display_name": "Python 3",
   "language": "python",
   "name": "python3"
  },
  "language_info": {
   "codemirror_mode": {
    "name": "ipython",
    "version": 3
   },
   "file_extension": ".py",
   "mimetype": "text/x-python",
   "name": "python",
   "nbconvert_exporter": "python",
   "pygments_lexer": "ipython3",
   "version": "3.8.5"
  }
 },
 "nbformat": 4,
 "nbformat_minor": 4
}
