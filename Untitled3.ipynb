{
 "cells": [
  {
   "cell_type": "code",
   "execution_count": 4,
   "metadata": {},
   "outputs": [
    {
     "data": {
      "text/plain": [
       "'saravana'"
      ]
     },
     "execution_count": 4,
     "metadata": {},
     "output_type": "execute_result"
    }
   ],
   "source": [
    "name1 = \" saravana\"\n",
    "\n",
    "name1. lstrip()"
   ]
  },
  {
   "cell_type": "code",
   "execution_count": null,
   "metadata": {},
   "outputs": [],
   "source": [
    "# right space"
   ]
  },
  {
   "cell_type": "code",
   "execution_count": 9,
   "metadata": {},
   "outputs": [
    {
     "data": {
      "text/plain": [
       "'saravana'"
      ]
     },
     "execution_count": 9,
     "metadata": {},
     "output_type": "execute_result"
    }
   ],
   "source": [
    "name2 = \"saravana \"\n",
    "\n",
    "name2. rstrip()"
   ]
  },
  {
   "cell_type": "code",
   "execution_count": null,
   "metadata": {},
   "outputs": [],
   "source": [
    "# space on the both end"
   ]
  },
  {
   "cell_type": "code",
   "execution_count": 11,
   "metadata": {},
   "outputs": [
    {
     "data": {
      "text/plain": [
       "'saravana'"
      ]
     },
     "execution_count": 11,
     "metadata": {},
     "output_type": "execute_result"
    }
   ],
   "source": [
    "x = \" saravana \"\n",
    "\n",
    "x.strip()"
   ]
  },
  {
   "cell_type": "code",
   "execution_count": null,
   "metadata": {},
   "outputs": [],
   "source": [
    "# list type"
   ]
  },
  {
   "cell_type": "code",
   "execution_count": 12,
   "metadata": {},
   "outputs": [
    {
     "name": "stdout",
     "output_type": "stream",
     "text": [
      "['chitra', 'shan', 'ramesh', 'dinesh', 'suresh', 'daniel', 'deepan', 'saravana']\n"
     ]
    }
   ],
   "source": [
    "students = ['chitra','shan','ramesh','dinesh','suresh','daniel','deepan','saravana']\n",
    "\n",
    "print (students)"
   ]
  },
  {
   "cell_type": "code",
   "execution_count": null,
   "metadata": {},
   "outputs": [],
   "source": [
    "# Indexing"
   ]
  },
  {
   "cell_type": "code",
   "execution_count": 15,
   "metadata": {},
   "outputs": [
    {
     "name": "stdout",
     "output_type": "stream",
     "text": [
      "shan\n"
     ]
    }
   ],
   "source": [
    "students = ['chitra','shan','ramesh','dinesh','suresh','daniel','deepan','saravana']\n",
    "\n",
    "print (students [1])"
   ]
  },
  {
   "cell_type": "code",
   "execution_count": null,
   "metadata": {},
   "outputs": [],
   "source": [
    "# index along with title"
   ]
  },
  {
   "cell_type": "code",
   "execution_count": 16,
   "metadata": {},
   "outputs": [
    {
     "name": "stdout",
     "output_type": "stream",
     "text": [
      "Shan\n"
     ]
    }
   ],
   "source": [
    "students = ['chitra','shan','ramesh','dinesh','suresh','daniel','deepan','saravana']\n",
    "\n",
    "print (students[1].title ())"
   ]
  },
  {
   "cell_type": "code",
   "execution_count": null,
   "metadata": {},
   "outputs": [],
   "source": [
    "# add new element "
   ]
  },
  {
   "cell_type": "code",
   "execution_count": 18,
   "metadata": {},
   "outputs": [
    {
     "name": "stdout",
     "output_type": "stream",
     "text": [
      "['chitra', 'shan', 'ramesh', 'dinesh', 'suresh', 'daniel', 'deepan', 'saravana', 'barani']\n"
     ]
    }
   ],
   "source": [
    "students = ['chitra','shan','ramesh','dinesh','suresh','daniel','deepan','saravana']\n",
    "\n",
    "students.append ('barani')\n",
    "\n",
    "print (students)"
   ]
  },
  {
   "cell_type": "code",
   "execution_count": null,
   "metadata": {},
   "outputs": [],
   "source": [
    "# add new name in 2 nd index position"
   ]
  },
  {
   "cell_type": "code",
   "execution_count": 19,
   "metadata": {},
   "outputs": [
    {
     "name": "stdout",
     "output_type": "stream",
     "text": [
      "['chitra', 'shan', 'barani', 'ramesh', 'dinesh', 'suresh', 'daniel', 'deepan', 'saravana']\n"
     ]
    }
   ],
   "source": [
    "students = ['chitra','shan','ramesh','dinesh','suresh','daniel','deepan','saravana']\n",
    "\n",
    "students.insert (2,'barani')\n",
    "\n",
    "print (students)"
   ]
  },
  {
   "cell_type": "code",
   "execution_count": null,
   "metadata": {},
   "outputs": [],
   "source": [
    "#delete "
   ]
  },
  {
   "cell_type": "code",
   "execution_count": 22,
   "metadata": {},
   "outputs": [
    {
     "name": "stdout",
     "output_type": "stream",
     "text": [
      "['chitra', 'shan', 'dinesh', 'suresh', 'daniel', 'deepan', 'saravana']\n"
     ]
    }
   ],
   "source": [
    "students = ['chitra','shan','ramesh','dinesh','suresh','daniel','deepan','saravana']\n",
    "\n",
    "del students [2]\n",
    "\n",
    "print (students)"
   ]
  },
  {
   "cell_type": "code",
   "execution_count": null,
   "metadata": {},
   "outputs": [],
   "source": []
  },
  {
   "cell_type": "code",
   "execution_count": null,
   "metadata": {},
   "outputs": [],
   "source": []
  },
  {
   "cell_type": "code",
   "execution_count": null,
   "metadata": {},
   "outputs": [],
   "source": []
  }
 ],
 "metadata": {
  "kernelspec": {
   "display_name": "Python 3",
   "language": "python",
   "name": "python3"
  },
  "language_info": {
   "codemirror_mode": {
    "name": "ipython",
    "version": 3
   },
   "file_extension": ".py",
   "mimetype": "text/x-python",
   "name": "python",
   "nbconvert_exporter": "python",
   "pygments_lexer": "ipython3",
   "version": "3.8.5"
  }
 },
 "nbformat": 4,
 "nbformat_minor": 4
}
